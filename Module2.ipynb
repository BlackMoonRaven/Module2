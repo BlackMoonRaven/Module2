{
  "metadata": {
    "kernelspec": {
      "name": "python",
      "display_name": "Python (Pyodide)",
      "language": "python"
    },
    "language_info": {
      "codemirror_mode": {
        "name": "python",
        "version": 3
      },
      "file_extension": ".py",
      "mimetype": "text/x-python",
      "name": "python",
      "nbconvert_exporter": "python",
      "pygments_lexer": "ipython3",
      "version": "3.8"
    }
  },
  "nbformat_minor": 5,
  "nbformat": 4,
  "cells": [
    {
      "id": "812fce58-86c0-418d-83e0-bec51a5dd33e",
      "cell_type": "code",
      "source": "import numpy as np\nimport matplotlib.pyplot as plt\nfrom sklearn.model_selection import train_test_split\nfrom sklearn.preprocessing import StandardScaler\nfrom sklearn.neural_network import MLPClassifier\nfrom sklearn import svm\nfrom sklearn.metrics import accuracy_score\n\nimport h5py\n\ndef load_dataset():\n    train_dataset = h5py.File(\"train_catvnoncat.h5\", \"r\")\n    test_dataset = h5py.File(\"test_catvnoncat.h5\", \"r\")\n    \n    X_train = np.array(train_dataset[\"train_set_x\"][:]) \n    Y_train = np.array(train_dataset[\"train_set_y\"][:])  \n    X_test = np.array(test_dataset[\"test_set_x\"][:])\n    Y_test = np.array(test_dataset[\"test_set_y\"][:])\n    \n    return X_train, Y_train, X_test, Y_test\n\nX_train_orig, Y_train_orig, X_test_orig, Y_test_orig = load_dataset()\n\nX_train = X_train_orig.reshape(X_train_orig.shape[0], -1) / 255.\nX_test = X_test_orig.reshape(X_test_orig.shape[0], -1) / 255.\nY_train = Y_train_orig.reshape(-1)\nY_test = Y_test_orig.reshape(-1)\n\ndef train_mlp(hidden_layers, activation, solver, max_iter):\n    mlp = MLPClassifier(hidden_layer_sizes=hidden_layers,\n                        activation=activation,\n                        solver=solver,\n                        max_iter=max_iter,\n                        random_state=42)\n    mlp.fit(X_train, Y_train)\n    train_acc = accuracy_score(Y_train, mlp.predict(X_train))\n    test_acc = accuracy_score(Y_test, mlp.predict(X_test))\n    return mlp, train_acc, test_acc\n\nmodel1, train_acc1, test_acc1 = train_mlp((100,), 'identity', 'lbfgs', 200)\n\nmodel2, train_acc2, test_acc2 = train_mlp((3, 3), 'logistic', 'lbfgs', 200)\n\nmodel3, train_acc3, test_acc3 = train_mlp((20, 7, 10), 'logistic', 'lbfgs', 200)\n\nsvm_model = svm.SVC(kernel='linear')\nsvm_model.fit(X_train, Y_train)\nsvm_train_acc = accuracy_score(Y_train, svm_model.predict(X_train))\nsvm_test_acc = accuracy_score(Y_test, svm_model.predict(X_test))\n\nprint(\"------- Підсумок роботи програми -------\")\nprint(f\"1-layer MLP [100]:         Train: {train_acc1:.4f} | Test: {test_acc1:.4f}\")\nprint(f\"2-layer MLP [3,3]:         Train: {train_acc2:.4f} | Test: {test_acc2:.4f}\")\nprint(f\"3-layer MLP [20,7,10]:     Train: {train_acc3:.4f} | Test: {test_acc3:.4f}\")\nprint(f\"SVM (linear):              Train: {svm_train_acc:.4f} | Test: {svm_test_acc:.4f}\")\n",
      "metadata": {
        "trusted": true
      },
      "outputs": [
        {
          "name": "stderr",
          "output_type": "stream",
          "text": "/lib/python3.12/site-packages/sklearn/neural_network/_multilayer_perceptron.py:545: ConvergenceWarning: lbfgs failed to converge (status=1):\nSTOP: TOTAL NO. of ITERATIONS REACHED LIMIT.\n\nIncrease the number of iterations (max_iter) or scale the data as shown in:\n    https://scikit-learn.org/stable/modules/preprocessing.html\n  self.n_iter_ = _check_optimize_result(\"lbfgs\", opt_res, self.max_iter)\n/lib/python3.12/site-packages/sklearn/neural_network/_multilayer_perceptron.py:545: ConvergenceWarning: lbfgs failed to converge (status=1):\nSTOP: TOTAL NO. of ITERATIONS REACHED LIMIT.\n\nIncrease the number of iterations (max_iter) or scale the data as shown in:\n    https://scikit-learn.org/stable/modules/preprocessing.html\n  self.n_iter_ = _check_optimize_result(\"lbfgs\", opt_res, self.max_iter)\n"
        },
        {
          "name": "stdout",
          "output_type": "stream",
          "text": "------- Підсумок роботи програми -------\n1-layer MLP [100]:         Train: 1.0000 | Test: 0.6200\n2-layer MLP [3,3]:         Train: 0.8086 | Test: 0.5600\n3-layer MLP [20,7,10]:     Train: 0.9522 | Test: 0.6600\nSVM (linear):              Train: 1.0000 | Test: 0.7200\n"
        }
      ],
      "execution_count": 2
    },
    {
      "id": "9655f1fa-1ef5-4589-ad86-0d3c7dd081d3",
      "cell_type": "code",
      "source": "",
      "metadata": {
        "trusted": true
      },
      "outputs": [],
      "execution_count": null
    }
  ]
}